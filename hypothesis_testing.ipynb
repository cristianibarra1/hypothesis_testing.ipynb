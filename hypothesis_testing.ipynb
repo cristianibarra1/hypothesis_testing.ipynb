{
 "cells": [
  {
   "cell_type": "code",
   "execution_count": 37,
   "id": "dcd13cee",
   "metadata": {},
   "outputs": [],
   "source": [
    "import numpy as np\n",
    "import seaborn as sns\n",
    "import scipy.stats as stats\n",
    "import pandas as pd\n",
    "import matplotlib.pyplot as plt\n",
    "from pydataset import data"
   ]
  },
  {
   "cell_type": "code",
   "execution_count": 5,
   "id": "03cf3a02",
   "metadata": {},
   "outputs": [],
   "source": [
    "# For each of the following questions, formulate a null and alternative hypothesis (be as specific as you can be),\n",
    "# then give an example of what a true positive, true negative, type I and type II errors would look like. \n",
    "# Note that some of the questions are intentionally phrased in a vague way. It is your job to reword these as \n",
    "# more precise questions that could be tested.\n",
    "\n",
    "# A type I error is when we reject the null hypothesis, but, in reality, the null hypothesis is true.\n",
    "# A type II error is when we fail to reject the null hypothesis when it is actually false.\n",
    "\n",
    "#             | H0 true      |   H0 false \n",
    "# Acccept H0  |True Negative |False Negative \n",
    "# Rejected H0 |False Positive|True Positive\n",
    "\n"
   ]
  },
  {
   "cell_type": "code",
   "execution_count": null,
   "id": "c50e27c9",
   "metadata": {},
   "outputs": [],
   "source": [
    "# When performing formal statistical hypothesis testing, the question being asked needs to be phrased as a null\n",
    "# hypothesis and an alternative hypothesis. The null hypothesis, is the \"status quo\", and usually reflects no chang\n",
    "# or no difference, while the alternative hypothesis says that there is a difference or change."
   ]
  },
  {
   "cell_type": "code",
   "execution_count": null,
   "id": "4817c990",
   "metadata": {},
   "outputs": [],
   "source": [
    "# Hypothesis\n",
    "# Has the network latency gone up since we switched internet service providers?\n",
    "# cheaper networks go faster \n",
    "# Alternative Hypothesis \n",
    "# expensive network go faster\n",
    "# Type I/Type II\n",
    "#             | H0 true          |   H0 false \n",
    "# Acccept H0  |cheap did go fast |cheap didnt go fast \n",
    "# Rejected H0 |expensice was slow|cheap was fast\n",
    "\n"
   ]
  },
  {
   "cell_type": "code",
   "execution_count": null,
   "id": "103f49d4",
   "metadata": {},
   "outputs": [],
   "source": [
    "# Hypothesis\n",
    "# Is the website redesign any good?\n",
    "# website got more views cause the new redisign \n",
    "# Alternative Hypothesis \n",
    "# website lost viewers\n",
    "# Type I/Type II\n",
    "#             | H0 true                    |   H0 false \n",
    "# Acccept H0  |website lost alot of viewrs |website gain more views \n",
    "# Rejected H0 |website was expectiong 3 time visits|website only got 1.2trime the visits"
   ]
  },
  {
   "cell_type": "code",
   "execution_count": 6,
   "id": "afcce627",
   "metadata": {},
   "outputs": [],
   "source": [
    "# Hypothesis \n",
    "# Is our television ad driving more sales?\n",
    "# televesion "
   ]
  },
  {
   "cell_type": "code",
   "execution_count": 7,
   "id": "ea7498e6",
   "metadata": {},
   "outputs": [],
   "source": [
    "## One Sample T-Test"
   ]
  },
  {
   "cell_type": "code",
   "execution_count": 10,
   "id": "c6776b89",
   "metadata": {},
   "outputs": [],
   "source": [
    "####Comparing Means"
   ]
  },
  {
   "cell_type": "code",
   "execution_count": 12,
   "id": "89d9c7e4",
   "metadata": {},
   "outputs": [],
   "source": [
    "# Ace Realty wants to determine whether the average time it takes to sell homes is different for its two offices. \n",
    "# A sample of 40 sales from office #1 revealed a mean of 90 days and a standard deviation of 15 days.\n",
    "# A sample of 50 sales from office #2 revealed a mean of 100 days and a standard deviation of 20 days. \n",
    "# Use a .05 level of significance."
   ]
  },
  {
   "cell_type": "code",
   "execution_count": 65,
   "id": "683f5acd",
   "metadata": {
    "scrolled": true
   },
   "outputs": [
    {
     "data": {
      "image/png": "[encoded data removed]",
      "text/plain": [
       "<Figure size 432x288 with 2 Axes>"
      ]
     },
     "metadata": {
      "needs_background": "light"
     },
     "output_type": "display_data"
    }
   ],
   "source": [
    "sa1=40\n",
    "sa2=50\n",
    "sam1=90\n",
    "sam1_std=15\n",
    "sam2_mean=100\n",
    "sam2_std=20\n",
    "sales=stats.norm(sam1,sam1_std)\n",
    "sales2=stats.norm(sam2_mean,sam2_std)\n",
    "sale1 = sales.rvs(sa1)\n",
    "sale2 = sales2.rvs(sa2)\n",
    "\n",
    "plt.subplot(222)\n",
    "sns.histplot(sale1)\n",
    "plt.title('sale1')\n",
    "plt.subplot(221)\n",
    "sns.histplot(sale2)\n",
    "plt.title('sale2')\n",
    "α = .05\n"
   ]
  },
  {
   "cell_type": "code",
   "execution_count": 68,
   "id": "d223b680",
   "metadata": {},
   "outputs": [
    {
     "data": {
      "text/plain": [
       "(87.44497972370712, 97.7577798565066)"
      ]
     },
     "execution_count": 68,
     "metadata": {},
     "output_type": "execute_result"
    }
   ],
   "source": [
    "sale1.mean(), sale2.mean()"
   ]
  },
  {
   "cell_type": "code",
   "execution_count": 64,
   "id": "5771e2ab",
   "metadata": {},
   "outputs": [],
   "source": [
    "a, b = stats.levene(sale1, sale2)"
   ]
  },
  {
   "cell_type": "code",
   "execution_count": 70,
   "id": "902c184e",
   "metadata": {},
   "outputs": [
    {
     "data": {
      "text/plain": [
       "True"
      ]
     },
     "execution_count": 70,
     "metadata": {},
     "output_type": "execute_result"
    }
   ],
   "source": [
    "b < α"
   ]
  },
  {
   "cell_type": "code",
   "execution_count": 72,
   "id": "5864ce44",
   "metadata": {},
   "outputs": [
    {
     "data": {
      "text/plain": [
       "True"
      ]
     },
     "execution_count": 72,
     "metadata": {},
     "output_type": "execute_result"
    }
   ],
   "source": [
    "t, p = stats.ttest_ind(sale1, sale2)\n",
    "b < α"
   ]
  },
  {
   "cell_type": "code",
   "execution_count": 100,
   "id": "4341d805",
   "metadata": {},
   "outputs": [
    {
     "data": {
      "text/html": [
       "<div>\n",
       "<style scoped>\n",
       "    .dataframe tbody tr th:only-of-type {\n",
       "        vertical-align: middle;\n",
       "    }\n",
       "\n",
       "    .dataframe tbody tr th {\n",
       "        vertical-align: top;\n",
       "    }\n",
       "\n",
       "    .dataframe thead th {\n",
       "        text-align: right;\n",
       "    }\n",
       "</style>\n",
       "<table border=\"1\" class=\"dataframe\">\n",
       "  <thead>\n",
       "    <tr style=\"text-align: right;\">\n",
       "      <th></th>\n",
       "      <th>manufacturer</th>\n",
       "      <th>model</th>\n",
       "      <th>displ</th>\n",
       "      <th>year</th>\n",
       "      <th>cyl</th>\n",
       "      <th>trans</th>\n",
       "      <th>drv</th>\n",
       "      <th>cty</th>\n",
       "      <th>hwy</th>\n",
       "      <th>fl</th>\n",
       "      <th>class</th>\n",
       "      <th>eco</th>\n",
       "    </tr>\n",
       "  </thead>\n",
       "  <tbody>\n",
       "    <tr>\n",
       "      <th>1</th>\n",
       "      <td>audi</td>\n",
       "      <td>a4</td>\n",
       "      <td>1.8</td>\n",
       "      <td>1999</td>\n",
       "      <td>4</td>\n",
       "      <td>auto(l5)</td>\n",
       "      <td>f</td>\n",
       "      <td>18</td>\n",
       "      <td>29</td>\n",
       "      <td>p</td>\n",
       "      <td>compact</td>\n",
       "      <td>23.5</td>\n",
       "    </tr>\n",
       "    <tr>\n",
       "      <th>2</th>\n",
       "      <td>audi</td>\n",
       "      <td>a4</td>\n",
       "      <td>1.8</td>\n",
       "      <td>1999</td>\n",
       "      <td>4</td>\n",
       "      <td>manual(m5)</td>\n",
       "      <td>f</td>\n",
       "      <td>21</td>\n",
       "      <td>29</td>\n",
       "      <td>p</td>\n",
       "      <td>compact</td>\n",
       "      <td>25.0</td>\n",
       "    </tr>\n",
       "    <tr>\n",
       "      <th>3</th>\n",
       "      <td>audi</td>\n",
       "      <td>a4</td>\n",
       "      <td>2.0</td>\n",
       "      <td>2008</td>\n",
       "      <td>4</td>\n",
       "      <td>manual(m6)</td>\n",
       "      <td>f</td>\n",
       "      <td>20</td>\n",
       "      <td>31</td>\n",
       "      <td>p</td>\n",
       "      <td>compact</td>\n",
       "      <td>25.5</td>\n",
       "    </tr>\n",
       "    <tr>\n",
       "      <th>4</th>\n",
       "      <td>audi</td>\n",
       "      <td>a4</td>\n",
       "      <td>2.0</td>\n",
       "      <td>2008</td>\n",
       "      <td>4</td>\n",
       "      <td>auto(av)</td>\n",
       "      <td>f</td>\n",
       "      <td>21</td>\n",
       "      <td>30</td>\n",
       "      <td>p</td>\n",
       "      <td>compact</td>\n",
       "      <td>25.5</td>\n",
       "    </tr>\n",
       "    <tr>\n",
       "      <th>5</th>\n",
       "      <td>audi</td>\n",
       "      <td>a4</td>\n",
       "      <td>2.8</td>\n",
       "      <td>1999</td>\n",
       "      <td>6</td>\n",
       "      <td>auto(l5)</td>\n",
       "      <td>f</td>\n",
       "      <td>16</td>\n",
       "      <td>26</td>\n",
       "      <td>p</td>\n",
       "      <td>compact</td>\n",
       "      <td>21.0</td>\n",
       "    </tr>\n",
       "    <tr>\n",
       "      <th>...</th>\n",
       "      <td>...</td>\n",
       "      <td>...</td>\n",
       "      <td>...</td>\n",
       "      <td>...</td>\n",
       "      <td>...</td>\n",
       "      <td>...</td>\n",
       "      <td>...</td>\n",
       "      <td>...</td>\n",
       "      <td>...</td>\n",
       "      <td>...</td>\n",
       "      <td>...</td>\n",
       "      <td>...</td>\n",
       "    </tr>\n",
       "    <tr>\n",
       "      <th>230</th>\n",
       "      <td>volkswagen</td>\n",
       "      <td>passat</td>\n",
       "      <td>2.0</td>\n",
       "      <td>2008</td>\n",
       "      <td>4</td>\n",
       "      <td>auto(s6)</td>\n",
       "      <td>f</td>\n",
       "      <td>19</td>\n",
       "      <td>28</td>\n",
       "      <td>p</td>\n",
       "      <td>midsize</td>\n",
       "      <td>23.5</td>\n",
       "    </tr>\n",
       "    <tr>\n",
       "      <th>231</th>\n",
       "      <td>volkswagen</td>\n",
       "      <td>passat</td>\n",
       "      <td>2.0</td>\n",
       "      <td>2008</td>\n",
       "      <td>4</td>\n",
       "      <td>manual(m6)</td>\n",
       "      <td>f</td>\n",
       "      <td>21</td>\n",
       "      <td>29</td>\n",
       "      <td>p</td>\n",
       "      <td>midsize</td>\n",
       "      <td>25.0</td>\n",
       "    </tr>\n",
       "    <tr>\n",
       "      <th>232</th>\n",
       "      <td>volkswagen</td>\n",
       "      <td>passat</td>\n",
       "      <td>2.8</td>\n",
       "      <td>1999</td>\n",
       "      <td>6</td>\n",
       "      <td>auto(l5)</td>\n",
       "      <td>f</td>\n",
       "      <td>16</td>\n",
       "      <td>26</td>\n",
       "      <td>p</td>\n",
       "      <td>midsize</td>\n",
       "      <td>21.0</td>\n",
       "    </tr>\n",
       "    <tr>\n",
       "      <th>233</th>\n",
       "      <td>volkswagen</td>\n",
       "      <td>passat</td>\n",
       "      <td>2.8</td>\n",
       "      <td>1999</td>\n",
       "      <td>6</td>\n",
       "      <td>manual(m5)</td>\n",
       "      <td>f</td>\n",
       "      <td>18</td>\n",
       "      <td>26</td>\n",
       "      <td>p</td>\n",
       "      <td>midsize</td>\n",
       "      <td>22.0</td>\n",
       "    </tr>\n",
       "    <tr>\n",
       "      <th>234</th>\n",
       "      <td>volkswagen</td>\n",
       "      <td>passat</td>\n",
       "      <td>3.6</td>\n",
       "      <td>2008</td>\n",
       "      <td>6</td>\n",
       "      <td>auto(s6)</td>\n",
       "      <td>f</td>\n",
       "      <td>17</td>\n",
       "      <td>26</td>\n",
       "      <td>p</td>\n",
       "      <td>midsize</td>\n",
       "      <td>21.5</td>\n",
       "    </tr>\n",
       "  </tbody>\n",
       "</table>\n",
       "<p>234 rows × 12 columns</p>\n",
       "</div>"
      ],
      "text/plain": [
       "    manufacturer   model  displ  year  cyl       trans drv  cty  hwy fl  \\\n",
       "1           audi      a4    1.8  1999    4    auto(l5)   f   18   29  p   \n",
       "2           audi      a4    1.8  1999    4  manual(m5)   f   21   29  p   \n",
       "3           audi      a4    2.0  2008    4  manual(m6)   f   20   31  p   \n",
       "4           audi      a4    2.0  2008    4    auto(av)   f   21   30  p   \n",
       "5           audi      a4    2.8  1999    6    auto(l5)   f   16   26  p   \n",
       "..           ...     ...    ...   ...  ...         ...  ..  ...  ... ..   \n",
       "230   volkswagen  passat    2.0  2008    4    auto(s6)   f   19   28  p   \n",
       "231   volkswagen  passat    2.0  2008    4  manual(m6)   f   21   29  p   \n",
       "232   volkswagen  passat    2.8  1999    6    auto(l5)   f   16   26  p   \n",
       "233   volkswagen  passat    2.8  1999    6  manual(m5)   f   18   26  p   \n",
       "234   volkswagen  passat    3.6  2008    6    auto(s6)   f   17   26  p   \n",
       "\n",
       "       class   eco  \n",
       "1    compact  23.5  \n",
       "2    compact  25.0  \n",
       "3    compact  25.5  \n",
       "4    compact  25.5  \n",
       "5    compact  21.0  \n",
       "..       ...   ...  \n",
       "230  midsize  23.5  \n",
       "231  midsize  25.0  \n",
       "232  midsize  21.0  \n",
       "233  midsize  22.0  \n",
       "234  midsize  21.5  \n",
       "\n",
       "[234 rows x 12 columns]"
      ]
     },
     "execution_count": 100,
     "metadata": {},
     "output_type": "execute_result"
    }
   ],
   "source": [
    "# Load the mpg dataset and use it to answer the following questions:\n",
    "mpg = pd.DataFrame(data('mpg'))\n",
    "mpg['eco'] = (mpg.cty + mpg.hwy)/2\n",
    "twen = mpg[mpg.year == 2008].eco\n",
    "nineteen = mpg[mpg.year == 1999].eco\n",
    "c = 0.05\n",
    "mpg"
   ]
  },
  {
   "cell_type": "code",
   "execution_count": 95,
   "id": "104b0acb",
   "metadata": {},
   "outputs": [
    {
     "data": {
      "text/plain": [
       "<AxesSubplot:>"
      ]
     },
     "execution_count": 95,
     "metadata": {},
     "output_type": "execute_result"
    },
    {
     "data": {
      "image/png": "[encoded data removed]",
      "text/plain": [
       "<Figure size 432x288 with 2 Axes>"
      ]
     },
     "metadata": {
      "needs_background": "light"
     },
     "output_type": "display_data"
    }
   ],
   "source": [
    "# Is there a difference in fuel-efficiency in cars from 2008 vs 1999?\n",
    "plt.subplot(212)\n",
    "nineteen.hist()\n",
    "\n",
    "plt.subplot(211)\n",
    "twen.hist()"
   ]
  },
  {
   "cell_type": "code",
   "execution_count": 97,
   "id": "80355f87",
   "metadata": {},
   "outputs": [
    {
     "data": {
      "text/plain": [
       "(20.076923076923077, 20.22222222222222)"
      ]
     },
     "execution_count": 97,
     "metadata": {},
     "output_type": "execute_result"
    }
   ],
   "source": [
    "twen.mean(), nineteen.mean()"
   ]
  },
  {
   "cell_type": "code",
   "execution_count": 113,
   "id": "e2a74e16",
   "metadata": {},
   "outputs": [
    {
     "data": {
      "text/plain": [
       "False"
      ]
     },
     "execution_count": 113,
     "metadata": {},
     "output_type": "execute_result"
    }
   ],
   "source": [
    "a, b = stats.levene(twen, nineteen)\n",
    "b< c"
   ]
  },
  {
   "cell_type": "code",
   "execution_count": 119,
   "id": "3b48956b",
   "metadata": {},
   "outputs": [
    {
     "data": {
      "text/plain": [
       "(True, True)"
      ]
     },
     "execution_count": 119,
     "metadata": {},
     "output_type": "execute_result"
    }
   ],
   "source": [
    "# Are compact cars more fuel-efficient than the average car?\n",
    "compact = mpg[mpg['class'] == 'compact'].eco\n",
    "ave = mpg.eco.mean()\n",
    "t, b = stats.ttest_1samp(compact, μth)\n",
    "b/2 < α, t > 0"
   ]
  },
  {
   "cell_type": "code",
   "execution_count": 109,
   "id": "6409f0ec",
   "metadata": {},
   "outputs": [
    {
     "data": {
      "text/plain": [
       "False"
      ]
     },
     "execution_count": 109,
     "metadata": {},
     "output_type": "execute_result"
    }
   ],
   "source": [
    "# Do manual cars get better gas mileage than automatic cars?\n",
    "manual = mpg[mpg['trans'].str.contains('manual')].eco\n",
    "auto = mpg[mpg['trans'].str.contains('auto')].eco\n",
    "a,b=stats.levene(manual,auto)\n",
    "b < α"
   ]
  },
  {
   "cell_type": "code",
   "execution_count": 112,
   "id": "0170c5f3",
   "metadata": {},
   "outputs": [
    {
     "data": {
      "text/plain": [
       "(True, True)"
      ]
     },
     "execution_count": 112,
     "metadata": {},
     "output_type": "execute_result"
    }
   ],
   "source": [
    "t, b = stats.ttest_ind(manual, auto)\n",
    "b < α, t > 0"
   ]
  }
 ],
 "metadata": {
  "kernelspec": {
   "display_name": "Python 3 (ipykernel)",
   "language": "python",
   "name": "python3"
  },
  "language_info": {
   "codemirror_mode": {
    "name": "ipython",
    "version": 3
   },
   "file_extension": ".py",
   "mimetype": "text/x-python",
   "name": "python",
   "nbconvert_exporter": "python",
   "pygments_lexer": "ipython3",
   "version": "3.9.12"
  }
 },
 "nbformat": 4,
 "nbformat_minor": 5
}
